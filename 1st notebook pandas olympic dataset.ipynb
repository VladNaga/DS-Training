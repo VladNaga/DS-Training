{
  "cells": [
    {
      "metadata": {},
      "cell_type": "markdown",
      "source": "<h1><center>Assignment #1. Fall 2019</center></h1>\n<h2><center>Exploratory data analysis of Olympic games with Pandas</center></h2>"
    },
    {
      "metadata": {},
      "cell_type": "markdown",
      "source": "__There are ten questions about [120 years of Olympic history: athletes and results](https://www.kaggle.com/heesoo37/120-years-of-olympic-history-athletes-and-results/version/2) dataset in this task. Your task is to fill in the missing Python code and choose answers in [this web-form](https://docs.google.com/forms/d/179HYvlF_0x435CWdu2aOtR9a3flh0YCQXXNXhXaKw2M).__"
    },
    {
      "metadata": {},
      "cell_type": "markdown",
      "source": "The dataset has the following features:\n\n- __ID__ - Unique number for each athlete\n- __Name__ - Athlete's name\n- __Sex__ - M or F\n- __Age__ - Integer\n- __Height__ - In centimeters\n- __Weight__ - In kilograms\n- __Team__ - Team name\n- __NOC__ - National Olympic Committee 3-letter code\n- __Games__ - Year and season\n- __Year__ - Integer\n- __Season__ - Summer or Winter\n- __City__ - Host city\n- __Sport__ - Sport\n- __Event__ - Event\n- __Medal__ - Gold, Silver, Bronze, or NA"
    },
    {
      "metadata": {
        "trusted": true
      },
      "cell_type": "code",
      "source": "import warnings; warnings.simplefilter('ignore')\nimport numpy as np\nimport pandas as pd\n# pip install seaborn \nimport seaborn as sns\nimport matplotlib.pyplot as plt",
      "execution_count": 1,
      "outputs": [
        {
          "output_type": "stream",
          "text": "/home/nbuser/anaconda3_420/lib/python3.5/site-packages/matplotlib/font_manager.py:281: UserWarning: Matplotlib is building the font cache using fc-list. This may take a moment.\n  'Matplotlib is building the font cache using fc-list. '\n",
          "name": "stderr"
        }
      ]
    },
    {
      "metadata": {},
      "cell_type": "markdown",
      "source": "**Here we put the data in dataframe, so we can use it more easily**"
    },
    {
      "metadata": {
        "scrolled": true,
        "trusted": true
      },
      "cell_type": "code",
      "source": "data = pd.read_csv('athlete_events.csv.zip')",
      "execution_count": 2,
      "outputs": []
    },
    {
      "metadata": {},
      "cell_type": "markdown",
      "source": "**Check the number of rows and columns and print column names.**"
    },
    {
      "metadata": {
        "trusted": true
      },
      "cell_type": "code",
      "source": "print(data.shape)\nprint(data.columns)",
      "execution_count": 3,
      "outputs": [
        {
          "output_type": "stream",
          "text": "(271116, 15)\nIndex(['ID', 'Name', 'Sex', 'Age', 'Height', 'Weight', 'Team', 'NOC', 'Games',\n       'Year', 'Season', 'City', 'Sport', 'Event', 'Medal'],\n      dtype='object')\n",
          "name": "stdout"
        }
      ]
    },
    {
      "metadata": {},
      "cell_type": "markdown",
      "source": "**Print first 5 rows of the dataset.**"
    },
    {
      "metadata": {
        "trusted": false
      },
      "cell_type": "code",
      "source": "data.head()",
      "execution_count": null,
      "outputs": []
    },
    {
      "metadata": {},
      "cell_type": "markdown",
      "source": "**Transpose the frame to see all features at once.**"
    },
    {
      "metadata": {
        "trusted": false
      },
      "cell_type": "code",
      "source": "data.head().T",
      "execution_count": null,
      "outputs": []
    },
    {
      "metadata": {},
      "cell_type": "markdown",
      "source": "**Examine data types of all features and total dataframe size in memory.**"
    },
    {
      "metadata": {
        "trusted": false
      },
      "cell_type": "code",
      "source": "data.info()",
      "execution_count": null,
      "outputs": []
    },
    {
      "metadata": {},
      "cell_type": "markdown",
      "source": "**Get basic statistics of each feature.**"
    },
    {
      "metadata": {
        "trusted": false
      },
      "cell_type": "code",
      "source": "data.describe().T",
      "execution_count": null,
      "outputs": []
    },
    {
      "metadata": {},
      "cell_type": "markdown",
      "source": "**Count unique Sports and plot their relative share of occurences:**"
    },
    {
      "metadata": {
        "trusted": false
      },
      "cell_type": "code",
      "source": "data['Sport'].nunique()",
      "execution_count": null,
      "outputs": []
    },
    {
      "metadata": {},
      "cell_type": "markdown",
      "source": "**We can also _group by_ category/categories in order to calculate different aggregated statistics.**\n\n**For example, finding top-3 flight codes, that have the largest total distance travelled in year 2008.**"
    },
    {
      "metadata": {
        "trusted": false
      },
      "cell_type": "code",
      "source": "data.groupby('Sport').size().plot(kind='bar');",
      "execution_count": null,
      "outputs": []
    },
    {
      "metadata": {},
      "cell_type": "markdown",
      "source": "**Number of flights by days of week and months:**"
    },
    {
      "metadata": {
        "trusted": false
      },
      "cell_type": "code",
      "source": "pd.crosstab(data.Event, data.Season).head()",
      "execution_count": null,
      "outputs": []
    },
    {
      "metadata": {},
      "cell_type": "markdown",
      "source": "**Flight distance histogram:**"
    },
    {
      "metadata": {
        "trusted": false
      },
      "cell_type": "code",
      "source": "data.hist('Year', bins=10);",
      "execution_count": null,
      "outputs": []
    },
    {
      "metadata": {},
      "cell_type": "markdown",
      "source": "__1. How old were the youngest male and female participants of the 1996 Olympics?__\n\n- 16 and 15\n- 14 and 12 \n- 16 and 12\n- 13 and 11"
    },
    {
      "metadata": {
        "trusted": false
      },
      "cell_type": "code",
      "source": "df = data[(data['Year'] == 1996)].groupby('Sex').Age.agg(min)\ndf",
      "execution_count": null,
      "outputs": []
    },
    {
      "metadata": {},
      "cell_type": "markdown",
      "source": "__2. What was the percentage of male gymnasts among all the male participants of the 2000 Olympics? Round the answer to the first decimal.__\n\n*Hint:* here and further if needed drop duplicated sportsmen to count only unique ones. \n\n- 0.2\n- 1.5 \n- 2.5\n- 7.7"
    },
    {
      "metadata": {
        "trusted": false
      },
      "cell_type": "code",
      "source": "all_gymnasts = pd.DataFrame(data.loc[data.Year == 2000].groupby(['Sport', 'Sex']).Name.nunique())\nall_gymnasts.head()",
      "execution_count": null,
      "outputs": []
    },
    {
      "metadata": {
        "trusted": false
      },
      "cell_type": "code",
      "source": "male_gymnasts = all_gymnasts.query(\"Sport == 'Gymnastics' & Sex == 'M'\").sum()\nmale_participants = all_gymnasts.query(\"Sex == 'M'\").sum()\npercentage = (male_gymnasts/male_participants * 100).round(1)\npercentage",
      "execution_count": null,
      "outputs": []
    },
    {
      "metadata": {},
      "cell_type": "markdown",
      "source": "__3. What are the mean and standard deviation of height for female basketball players participated in the 2000 Olympics? Round the answer to the first decimal.__\n\n- 178.5 and 7.2\n- 179.4 and 10\n- 180.7 and 6.7\n- 182.4 and 9.1 "
    },
    {
      "metadata": {
        "trusted": false
      },
      "cell_type": "code",
      "source": "fem_basket_2000 = data[(data['Year'] == 2000) & (data.Sex == 'F') & (data.Sport == 'Basketball')]\na = fem_basket_2000.describe()\na['Height']",
      "execution_count": null,
      "outputs": []
    },
    {
      "metadata": {},
      "cell_type": "markdown",
      "source": "__4. Find a sportsperson participated in the 2002 Olympics, with the highest weight among other participants of the same Olympics. What sport did he or she do?__\n\n- Judo\n- Bobsleigh \n- Weightlifting\n- Boxing"
    },
    {
      "metadata": {
        "trusted": false
      },
      "cell_type": "code",
      "source": "dw = data[(data['Year'] == 2002)]\ndw[dw['Weight'] == dw['Weight'].max()]['Sport']",
      "execution_count": null,
      "outputs": []
    },
    {
      "metadata": {},
      "cell_type": "markdown",
      "source": "__5. How many times did Pawe Abratkiewicz participate in the Olympics held in different years?__\n\n- 0\n- 1 \n- 2\n- 3 "
    },
    {
      "metadata": {
        "trusted": false
      },
      "cell_type": "code",
      "source": "dt = (data.loc[data.Name == 'Pawe Abratkiewicz'].groupby('Name').Year.nunique())\ndt",
      "execution_count": null,
      "outputs": []
    },
    {
      "metadata": {},
      "cell_type": "markdown",
      "source": "__6. How many silver medals in tennis did Australia win at the 2000 Olympics?__\n\n- 0\n- 1 \n- 2 \n- 3 "
    },
    {
      "metadata": {
        "trusted": false
      },
      "cell_type": "code",
      "source": "silver_medals = (data.loc[(data. == ) & (data. == '') & (data. == '') & (data. == '')])\nsilver_medals.Medal.value_counts()",
      "execution_count": null,
      "outputs": []
    },
    {
      "metadata": {},
      "cell_type": "markdown",
      "source": "__7. Is it true that Switzerland won fewer medals than Serbia at the 2016 Olympics? Do not consider NaN values in _Medal_ column.__ \n\n- Yes \n- No"
    },
    {
      "metadata": {
        "trusted": false
      },
      "cell_type": "code",
      "source": "swtz = data.loc[(data. == 2016) & (data. == '')].dropna(subset=['Medal']).Medal.value_counts()\nswtz",
      "execution_count": null,
      "outputs": []
    },
    {
      "metadata": {
        "trusted": false
      },
      "cell_type": "code",
      "source": "srb = data.loc[]\nsrb",
      "execution_count": null,
      "outputs": []
    },
    {
      "metadata": {
        "trusted": false
      },
      "cell_type": "code",
      "source": "swtz.sum() < srb.sum()",
      "execution_count": null,
      "outputs": []
    },
    {
      "metadata": {},
      "cell_type": "markdown",
      "source": "__8. What age category did the fewest and the most participants of the 2014 Olympics belong to?__\n- [45-55] and [25-35) correspondingly\n- [45-55] and [15-25) correspondingly\n- [35-45] and [25-35) correspondingly\n- [45-55] and [35-45) correspondingly"
    },
    {
      "metadata": {
        "trusted": false
      },
      "cell_type": "code",
      "source": "year_2014 = data.loc[(data. == )]\nyear_2014['ages'] = pd.cut(x = year_2014.Age, bins=[15,25,35,45,55])\nyear_2014..()",
      "execution_count": null,
      "outputs": []
    },
    {
      "metadata": {},
      "cell_type": "markdown",
      "source": "__9. Is it true that there were Summer Olympics held in Lake Placid? Is it true that there were Winter Olympics held in Sankt Moritz?__\n\n- Yes, Yes\n- Yes, No\n- No, Yes \n- No, No "
    },
    {
      "metadata": {
        "trusted": false
      },
      "cell_type": "code",
      "source": "pd.Series([data.loc[(data. == 'Summer') & (data. == 'Lake Placid')].ID.count() > 0,\n           data.loc[(data. == '') & (data. == '')].ID.count() > 0])",
      "execution_count": null,
      "outputs": []
    },
    {
      "metadata": {},
      "cell_type": "markdown",
      "source": "__10. What is the absolute difference between the number of unique sports at the 1995 Olympics and 2016 Olympics?__\n\n- 16\n- 24\n- 26\n- 34"
    },
    {
      "metadata": {
        "trusted": false
      },
      "cell_type": "code",
      "source": "sports_1995 = data.loc[data. == ]..nunique()\nsports_2016 = data.loc[data. == ]..nunique()\nabs(sports_1995 - sports_2016)",
      "execution_count": null,
      "outputs": []
    }
  ],
  "metadata": {
    "kernelspec": {
      "name": "python3",
      "display_name": "Python 3",
      "language": "python"
    },
    "language_info": {
      "mimetype": "text/x-python",
      "nbconvert_exporter": "python",
      "name": "python",
      "pygments_lexer": "ipython3",
      "version": "3.5.4",
      "file_extension": ".py",
      "codemirror_mode": {
        "version": 3,
        "name": "ipython"
      }
    }
  },
  "nbformat": 4,
  "nbformat_minor": 2
}